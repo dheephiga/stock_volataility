{
  "nbformat": 4,
  "nbformat_minor": 0,
  "metadata": {
    "colab": {
      "name": "sv.ipynb",
      "provenance": [],
      "authorship_tag": "ABX9TyM719oUeoVmxL0K99Txzb2D",
      "include_colab_link": true
    },
    "kernelspec": {
      "name": "python3",
      "display_name": "Python 3"
    },
    "language_info": {
      "name": "python"
    }
  },
  "cells": [
    {
      "cell_type": "markdown",
      "metadata": {
        "id": "view-in-github",
        "colab_type": "text"
      },
      "source": [
        "<a href=\"https://colab.research.google.com/github/dheephiga/stock_volataility/blob/main/volatile.ipynb\" target=\"_parent\"><img src=\"https://colab.research.google.com/assets/colab-badge.svg\" alt=\"Open In Colab\"/></a>"
      ]
    },
    {
      "cell_type": "code",
      "source": [
        "import pandas as pd\n",
        "import numpy as np\n",
        "import matplotlib.pyplot as plt\n",
        "import math\n",
        "from arch import arch_model\n",
        "from arch.__future__ import reindexing\n",
        "import yfinance as yf\n",
        "%matplotlib inline"
      ],
      "metadata": {
        "id": "PdZKjA1JO__W"
      },
      "execution_count": 52,
      "outputs": []
    },
    {
      "cell_type": "code",
      "source": [
        "pogr = 'POWERGRID.NS'\n",
        "powergrid = yf.download(pogr, start=\"2007-10-05\", end = \"2021-10-05\")"
      ],
      "metadata": {
        "id": "UOrfqLtkPhtm"
      },
      "execution_count": null,
      "outputs": []
    },
    {
      "cell_type": "code",
      "source": [
        "tp = 'TATAPOWER.NS'\n",
        "tatapower = yf.download(tp, start = '2007-10-05', end = '2021-10-05')"
      ],
      "metadata": {
        "id": "jw-pb4PnR2mO"
      },
      "execution_count": null,
      "outputs": []
    },
    {
      "cell_type": "code",
      "source": [
        "ag = 'ADANIGREEN.NS'\n",
        "adanigreen = yf.download(ag, start = '2007-10-05', end = '2021-10-05')"
      ],
      "metadata": {
        "id": "Pt5QLifcThYj"
      },
      "execution_count": null,
      "outputs": []
    },
    {
      "cell_type": "code",
      "source": [
        "nt = 'NTPC.NS'\n",
        "ntpc = yf.download(nt, start = '2007-10-05', end = '2021-10-05')"
      ],
      "metadata": {
        "id": "H0YmJ3KwT9IS"
      },
      "execution_count": null,
      "outputs": []
    },
    {
      "cell_type": "code",
      "source": [
        "powergrid['Returns'] = 100 * (powergrid['Close'].pct_change())\n",
        "tatapower['Returns'] = 100 * (tatapower['Close'].pct_change())\n",
        "adanigreen['Returns'] = 100 * (adanigreen['Close'].pct_change())\n",
        "ntpc['Returns'] = 100 * (ntpc['Close'].pct_change())"
      ],
      "metadata": {
        "id": "MSYBUM6DUOZz"
      },
      "execution_count": 73,
      "outputs": []
    },
    {
      "cell_type": "code",
      "source": [
        "powergrid['Returns'].plot(label = 'Powergrid', figsize = (15,7))\n",
        "adanigreen['Returns'].plot(label = 'Adani Green', figsize = (15,7))\n",
        "ntpc['Returns'].plot(label = 'NTPC', figsize = (15,7))\n",
        "tatapower['Returns'].plot(label = 'Tata Power', figsize = (15,7))"
      ],
      "metadata": {
        "id": "4tNz-xHSfklQ"
      },
      "execution_count": null,
      "outputs": []
    },
    {
      "cell_type": "code",
      "source": [
        "pv = powergrid['Returns'].std()*252**.5\n",
        "\n",
        "str_vol = str(round(pv, 4)*100)\n",
        "\n",
        "fig, ax = plt.subplots()\n",
        "powergrid['Returns'].hist(ax=ax, bins=50, alpha=0.6, color='b')\n",
        "ax.set_xlabel('Returns')\n",
        "ax.set_ylabel('Frequency')\n",
        "ax.set_title('PowerGrid volatility: ' + str_vol + '%')"
      ],
      "metadata": {
        "id": "R23ey9pdUr5Q"
      },
      "execution_count": null,
      "outputs": []
    },
    {
      "cell_type": "code",
      "source": [
        "tv = tatapower['Returns'].std()*252**.5\n",
        "\n",
        "str_vol = str(round(tv, 4)*100)\n",
        "\n",
        "fig, ax = plt.subplots()\n",
        "tatapower['Returns'].hist(ax=ax, bins=50, alpha=0.6, color='b')\n",
        "ax.set_xlabel('Returns')\n",
        "ax.set_ylabel('Frequency')\n",
        "ax.set_title('TataPower volatility: ' + str_vol + '%')"
      ],
      "metadata": {
        "id": "3ywXjlepVUvT"
      },
      "execution_count": null,
      "outputs": []
    },
    {
      "cell_type": "code",
      "source": [
        "av = adanigreen['Returns'].std()*252**.5\n",
        "\n",
        "str_vol = str(round(av, 4)*100)\n",
        "\n",
        "fig, ax = plt.subplots()\n",
        "adanigreen['Returns'].hist(ax=ax, bins=50, alpha=0.6, color='b')\n",
        "ax.set_xlabel('Returns')\n",
        "ax.set_ylabel('Frequency')\n",
        "ax.set_title('Adani Green volatility: ' + str_vol + '%')"
      ],
      "metadata": {
        "id": "3jjQmjxpVnS3"
      },
      "execution_count": null,
      "outputs": []
    },
    {
      "cell_type": "code",
      "source": [
        "nv = ntpc['Returns'].std()*252**.5\n",
        "\n",
        "str_vol = str(round(nv, 4)*100)\n",
        "\n",
        "fig, ax = plt.subplots()\n",
        "ntpc['Returns'].hist(ax=ax, bins=50, alpha=0.6, color='b')\n",
        "ax.set_xlabel('Returns')\n",
        "ax.set_ylabel('Frequency')\n",
        "ax.set_title('NTPC volatility: ' + str_vol + '%')"
      ],
      "metadata": {
        "id": "NJfKlfaSVrq7"
      },
      "execution_count": null,
      "outputs": []
    }
  ]
}